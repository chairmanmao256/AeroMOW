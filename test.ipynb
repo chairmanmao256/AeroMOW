{
 "cells": [
  {
   "cell_type": "code",
   "execution_count": null,
   "metadata": {},
   "outputs": [],
   "source": [
    "import MOW\n",
    "import matplotlib.pyplot as plt\n",
    "ga = 1.4\n",
    "ga1p = ga + 1.0\n",
    "ga1m = ga - 1.0\n",
    "gar = ga1m / ga1p"
   ]
  },
  {
   "cell_type": "code",
   "execution_count": null,
   "metadata": {},
   "outputs": [],
   "source": [
    "dtheta = 1.0\n",
    "dx = 0.12\n",
    "dy = 1\n",
    "nwave = 7\n",
    "nu0 = 7.0"
   ]
  },
  {
   "cell_type": "code",
   "execution_count": null,
   "metadata": {},
   "outputs": [],
   "source": [
    "fig = plt.figure(figsize = (6,3), dpi = 330)\n",
    "\n",
    "\n",
    "s_ = 3\n",
    "noz = MOW.nozzle(dtheta, dx, dy, nwave, nu0 = nu0)\n",
    "noz.march()\n",
    "noz.elimination()\n",
    "A2_A1 = noz.comp_yu[-1] / noz.node_y[1,0]\n",
    "\n",
    "M2 = noz.calc_Ma(nu0 + nwave * 2 * dtheta)\n",
    "M1 = noz.calc_Ma(nu0)\n",
    "\n",
    "plt.title(\"Diverging nozzle, $A_2/A_1 = {:.3f}$, \\\n",
    "$M_2={:.2f}, M_1={:.2f}$\".format(A2_A1, M2, M1))\n",
    "\n",
    "\n",
    "plt.scatter(noz.node_x[1:, 0], noz.node_y[1:, 0], c = \"blue\", s = s_)\n",
    "plt.scatter(noz.node_x[0, 1:], noz.node_y[0, 1:], c = \"blue\", s = s_)\n",
    "plt.plot(noz.node_x[1:, 0], noz.node_y[1:, 0], c = \"blue\", linestyle = \"solid\")\n",
    "plt.plot(noz.node_x[0, 1:], noz.node_y[0, 1:], c = \"blue\", linestyle = \"solid\")\n",
    "\n",
    "plt.scatter(noz.comp_xu, noz.comp_yu, c = \"blue\", linestyle = \"solid\", s = s_)\n",
    "plt.scatter(noz.comp_xl, noz.comp_yl, c = \"blue\", linestyle = \"solid\", s = s_)\n",
    "plt.plot(noz.comp_xu, noz.comp_yu, c = \"blue\", linestyle = \"solid\")\n",
    "plt.plot(noz.comp_xl, noz.comp_yl, c = \"blue\", linestyle = \"solid\")\n",
    "\n",
    "noz.node_x[0,0] = None\n",
    "noz.node_y[0,0] = None\n",
    "plt.scatter(noz.node_x, noz.node_y, s = s_)\n",
    "\n",
    "for i in range(1, noz.nwave+1):\n",
    "    for j in range(1, noz.nwave+1):\n",
    "        p1, p2 = noz.find_parent(i,j)\n",
    "        plt.plot([noz.node_x[p1[0], p1[1]], noz.node_x[i,j]], [noz.node_y[p1[0], p1[1]], noz.node_y[i,j]], c = \"k\", linestyle = \"dashed\")\n",
    "        plt.plot([noz.node_x[p2[0], p2[1]], noz.node_x[i,j]], [noz.node_y[p2[0], p2[1]], noz.node_y[i,j]], c = \"k\", linestyle = \"dashed\")\n",
    "\n",
    "for i in range(1, noz.nwave+1):\n",
    "    plt.plot([noz.node_x[noz.nwave, i], noz.comp_xu[i]],[noz.node_y[noz.nwave, i], noz.comp_yu[i]] , c = \"red\", linestyle = \"dashdot\")\n",
    "    plt.plot([noz.node_x[i, noz.nwave], noz.comp_xl[i]],[noz.node_y[i, noz.nwave], noz.comp_yl[i]] , c = \"red\", linestyle = \"dashdot\")\n",
    "\n",
    "plt.xlabel(\"$x$\")\n",
    "plt.ylabel(\"$y$\")"
   ]
  },
  {
   "cell_type": "code",
   "execution_count": null,
   "metadata": {},
   "outputs": [],
   "source": [
    "def A2AStar(M):\n",
    "    return 1.0 / M * (2.0 / ga1p + gar * M**2) **(0.5 / gar)"
   ]
  },
  {
   "cell_type": "code",
   "execution_count": null,
   "metadata": {},
   "outputs": [],
   "source": [
    "print(noz.node_y[1,0])\n",
    "print(noz.comp_yu[-1])\n",
    "M2 = noz.calc_Ma(nu0 + nwave * 2 * dtheta)\n",
    "M1 = noz.calc_Ma(nu0)\n",
    "iso = A2AStar(M2) / A2AStar(M1)\n",
    "\n",
    "print(iso)\n",
    "print(abs(iso-noz.comp_yu[-1])/iso)"
   ]
  }
 ],
 "metadata": {
  "kernelspec": {
   "display_name": "sklearn-env",
   "language": "python",
   "name": "python3"
  },
  "language_info": {
   "codemirror_mode": {
    "name": "ipython",
    "version": 3
   },
   "file_extension": ".py",
   "mimetype": "text/x-python",
   "name": "python",
   "nbconvert_exporter": "python",
   "pygments_lexer": "ipython3",
   "version": "3.10.6"
  },
  "orig_nbformat": 4
 },
 "nbformat": 4,
 "nbformat_minor": 2
}
